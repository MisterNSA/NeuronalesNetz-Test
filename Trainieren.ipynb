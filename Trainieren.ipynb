# --- setup --- #
# Neuronales Netz Klasse importieren
from NeuralNetwork import NeuralNetwork
# Zum berechnen der Trefferquote
import numpy
# Matplotlib zum grafischen darstellen der Ergebnisse. Nicht nötig, aber durchaus interessant
import matplotlib.pyplot
# Grafiken in Notebook anzeigen, nicht in extra Fenster
%matplotlib inline

# Festlegen der Werte
input_nodes = 784
hidden_nodes = 200
output_nodes = 10
lernrate = 0.1

# Instanz des Neuronalen Netzes erstellen
n = NeuralNetwork(input_nodes,hidden_nodes,output_nodes, lernrate)

# Laden der mnist Trainingsdaten CSV in eine Liste
with open("mnist_dataset/mnist_train.csv", 'r') as training_data:
  training_data_list = training_data.readlines()
  
 
# --- Trainieren des Netzes --- #

# Wie oft die Daten durchlaufen werden sollen
Durchläufe = 5

for e in range(epochs):
    for record in training_data_list:
        all_values = record.split(',')
        
        # WIP - FORMEL BESCHREIBEN
        inputs = (numpy.asfarray(all_values[1:]) / 255.0 * 0.99) + 0.01
        
        # Zielwerte: Falsche = 0.01 / Richtig = 0.99 | Nur das richtige Ergebnis sollte den größtmöglichen Wert annehmen, weshalb erstmal alle Werte auf das Minimum gesetzt werden
        ziel_wert = numpy.zeros(output_nodes) + 0.01
        # mnist Daten Aufbau: Erste Stelle: Richtiges Ergebnis / Rest: Bilddaten
        # Der Wert der Richtigen Ergebnisses wird auf 0.99, also das Maximum gesetzt.
        ziel_wert[int(all_values[0])] = 0.99
        n.train(inputs, ziel_wert)
        pass
    pass
