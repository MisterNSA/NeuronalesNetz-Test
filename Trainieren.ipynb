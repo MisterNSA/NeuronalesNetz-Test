{
 "cells": [
  {
   "cell_type": "code",
   "execution_count": null,
   "metadata": {},
   "outputs": [],
   "source": [
    "# --- setup --- #\n",
    "# Neuronales Netz Klasse importieren\n",
    "from NeuronalesNetz import NeuronalesNetz\n",
    "# Zum berechnen der Trefferquote\n",
    "import numpy\n",
    "# Matplotlib zum grafischen darstellen der Ergebnisse. Nicht nötig, aber durchaus interessant\n",
    "import matplotlib.pyplot\n",
    "# Grafiken in Notebook anzeigen, nicht in extra Fenster\n",
    "%matplotlib inline"
   ]
  },
  {
   "cell_type": "code",
   "execution_count": null,
   "metadata": {},
   "outputs": [],
   "source": [
    "# Festlegen der Werte\n",
    "input_nodes = 784\n",
    "hidden_nodes = 200\n",
    "output_nodes = 10\n",
    "lernrate = 0.1\n",
    "\n",
    "# Instanz des Neuronalen Netzes erstellen\n",
    "n = NeuralNetwork(input_nodes,hidden_nodes,output_nodes, lernrate)"
   ]
  },
  {
   "cell_type": "code",
   "execution_count": null,
   "metadata": {},
   "outputs": [],
   "source": [
    "# Laden der mnist Trainingsdaten CSV in eine Liste\n",
    "with open(\"mnist_dataset/mnist_train.csv\", 'r') as training_data:\n",
    "  training_data_list = training_data.readlines()"
   ]
  },
  {
   "cell_type": "code",
   "execution_count": null,
   "metadata": {},
   "outputs": [],
   "source": [
    "# --- Trainieren des Netzes --- #\n",
    "\n",
    "# Wie oft die Daten durchlaufen werden sollen\n",
    "Durchläufe = 5\n",
    "\n",
    "for e in range(epochs):\n",
    "    for record in training_data_list:\n",
    "        all_values = record.split(',')\n",
    "        \n",
    "        # WIP - FORMEL BESCHREIBEN\n",
    "        inputs = (numpy.asfarray(all_values[1:]) / 255.0 * 0.99) + 0.01\n",
    "        \n",
    "        # Zielwerte: Falsche = 0.01 / Richtig = 0.99 | Nur das richtige Ergebnis sollte den größtmöglichen Wert annehmen, weshalb erstmal alle Werte auf das Minimum gesetzt werden\n",
    "        ziel_wert = numpy.zeros(output_nodes) + 0.01\n",
    "        # mnist Daten Aufbau: Erste Stelle: Richtiges Ergebnis / Rest: Bilddaten\n",
    "        # Der Wert der Richtigen Ergebnisses wird auf 0.99, also das Maximum gesetzt.\n",
    "        ziel_wert[int(all_values[0])] = 0.99\n",
    "        n.train(inputs, ziel_wert)\n",
    "        pass\n",
    "    pass"
   ]
  }
 ],
 "metadata": {
  "kernelspec": {
   "display_name": "Python 3",
   "language": "python",
   "name": "python3"
  },
  "language_info": {
   "codemirror_mode": {
    "name": "ipython",
    "version": 3
   },
   "file_extension": ".py",
   "mimetype": "text/x-python",
   "name": "python",
   "nbconvert_exporter": "python",
   "pygments_lexer": "ipython3",
   "version": "3.8.5"
  }
 },
 "nbformat": 4,
 "nbformat_minor": 4
}
