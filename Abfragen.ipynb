# --- setup --- #
# Neuronales Netz Klasse importieren
from NeuralNetwork import NeuralNetwork
# Zum berechnen der Trefferquote
import numpy
# Matplotlib zum grafischen darstellen der Ergebnisse. Nicht nötig, aber durchaus interessant
import matplotlib.pyplot
# Grafiken in Notebook anzeigen, nicht in extra Fenster
%matplotlib inline

# Festlegen der Werte
input_nodes = 784
hidden_nodes = 200
output_nodes = 10
lernrate = 0.1

# Instanz des Neuronalen Netzes erstellen
n = NeuralNetwork(input_nodes,hidden_nodes,output_nodes, lernrate)


with open("mnist_dataset/mnist_test.csv", 'r') as test_data:
    test_data_list = test_data.readlines()
    
    
# Liste zum errechnen der Trefferquote / beinhaltet 0=Falsch, 1=Richtig
score = []

# go through all the records in the test data set
for record in test_data_list:
    all_values = record.split(',')
    # Erster Wert ist das richtige Ergebnis, der Rest sind Bilddaten
    correct_label = int(all_values[0])
    # WIP - FORMEL ERKLÄREN
    inputs = (numpy.asfarray(all_values[1:]) / 255.0 * 0.99) + 0.01
    # Daten durch Netz laufen lassen
    outputs = n.query(inputs)
    # Ergebnis der Netzes ist der Höchste aller Ausgabewerte
    label = numpy.argmax(outputs)
    
    if (label == correct_label):
        # Richtiges Ergebnis
        score.append(1)
    else:
        # Falsches Ergebnis
        score.append(0)
        pass
    
    pass
    
# Summe durch Länge teilen um Trefferquote zu ermitteln
score_array = numpy.asarray(score)
print ("Trefferquote = ", score_array.sum() / score_array.size)
