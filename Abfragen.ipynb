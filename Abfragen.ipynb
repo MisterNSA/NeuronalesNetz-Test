{
 "cells": [
  {
   "cell_type": "code",
   "execution_count": null,
   "metadata": {},
   "outputs": [],
   "source": [
    "# --- setup --- #\n",
    "# Neuronales Netz Klasse importieren\n",
    "from NeuronalesNetz import NeuronalesNetz\n",
    "# Zum berechnen der Trefferquote\n",
    "import numpy\n",
    "# Matplotlib zum grafischen darstellen der Ergebnisse. Nicht nötig, aber durchaus interessant\n",
    "import matplotlib.pyplot\n",
    "# Grafiken in Notebook anzeigen, nicht in extra Fenster\n",
    "%matplotlib inline"
   ]
  },
  {
   "cell_type": "code",
   "execution_count": null,
   "metadata": {},
   "outputs": [],
   "source": [
    "# Festlegen der Werte\n",
    "input_nodes = 784\n",
    "hidden_nodes = 200\n",
    "output_nodes = 10\n",
    "lernrate = 0.1\n",
    "\n",
    "# Instanz des Neuronalen Netzes erstellen\n",
    "n = NeuralNetwork(input_nodes,hidden_nodes,output_nodes, lernrate)"
   ]
  },
  {
   "cell_type": "code",
   "execution_count": null,
   "metadata": {},
   "outputs": [],
   "source": [
    "with open(\"mnist_dataset/mnist_test.csv\", 'r') as test_data:\n",
    "    test_data_list = test_data.readlines()"
   ]
  },
  {
   "cell_type": "code",
   "execution_count": null,
   "metadata": {},
   "outputs": [],
   "source": [
    "# Liste zum errechnen der Trefferquote / beinhaltet 0=Falsch, 1=Richtig\n",
    "score = []\n",
    "\n",
    "# go through all the records in the test data set\n",
    "for record in test_data_list:\n",
    "    all_values = record.split(',')\n",
    "    # Erster Wert ist das richtige Ergebnis, der Rest sind Bilddaten\n",
    "    correct_label = int(all_values[0])\n",
    "    # WIP - FORMEL ERKLÄREN\n",
    "    inputs = (numpy.asfarray(all_values[1:]) / 255.0 * 0.99) + 0.01\n",
    "    # Daten durch Netz laufen lassen\n",
    "    outputs = n.query(inputs)\n",
    "    # Ergebnis der Netzes ist der Höchste aller Ausgabewerte\n",
    "    label = numpy.argmax(outputs)\n",
    "    \n",
    "    if (label == correct_label):\n",
    "        # Richtiges Ergebnis\n",
    "        score.append(1)\n",
    "    else:\n",
    "        # Falsches Ergebnis\n",
    "        score.append(0)\n",
    "        pass\n",
    "    \n",
    "    pass\n",
    "    \n",
    "# Summe durch Länge teilen um Trefferquote zu ermitteln\n",
    "score_array = numpy.asarray(score)\n",
    "print (\"Trefferquote = \", score_array.sum() / score_array.size)"
   ]
  }
 ],
 "metadata": {
  "kernelspec": {
   "display_name": "Python 3",
   "language": "python",
   "name": "python3"
  },
  "language_info": {
   "codemirror_mode": {
    "name": "ipython",
    "version": 3
   },
   "file_extension": ".py",
   "mimetype": "text/x-python",
   "name": "python",
   "nbconvert_exporter": "python",
   "pygments_lexer": "ipython3",
   "version": "3.8.5"
  }
 },
 "nbformat": 4,
 "nbformat_minor": 4
}
