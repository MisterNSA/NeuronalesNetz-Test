# ---------- Setup ---------- #
import numpy
# scipy.special für die Sigmund-Aktivierungsfunktion expit()
import scipy.special

# ---------- Klasse ---------- #

class neuralNetwork:
    
    
    def __init__(self, inputnodes, hiddennodes, outputnodes, lernrate):
    """Erstellt ein neuronales Netz 
    inputs:
    - inputnodes = Wie viele Eingangsneuronen es geben soll.
    - hiddennodes = Wie viele Neuronen die versteckte Schicht haben soll
    - outputnodes = Wie viele Ausgangsneuronen es geben soll. Normalerweise gleicht die Anzahl der anzahl der Möglichen Antworten
    - lernrate = Wie stark die veränderung der Gewichte nach jedem Lerndurchgang sein soll. 1 bedeutet sehr große Veränderungen, 0,01 eher Kleine.
    """
    
        # Nummer der Neuronen in jeder Schicht festlegen
        self.inputnodes = inputnodes
        self.hiddennodes = hiddennodes
        self.onodes = outputnodes
        
        # Gewichts-Matrizen erstellen, wih and who
        self.weight_InputHidden = numpy.random.normal(0.0, pow(self.inputnodes, -0.5), (self.hiddennodes, self.inputnodes))
        self.weight_HiddenOutput = numpy.random.normal(0.0, pow(self.hiddennodes, -0.5), (self.outputnodes, self.hiddennodes))

        self.lr = lernrate
        
        # Aktivierungsfunktion ist sigmund. Als Aktivierungsfunktion ist es einfacher zu identifizieren als scipy.special.expit, weshalb ich es "umbenenne"
        self.Aktivierungsfunktion = lambda x: scipy.special.expit(x)
        
        pass

    
    # --- Trainieren --- #
    def train(self, inputs_list, erwartete_Ergebnisse):
    """Passt die Gewichte der Verknüpfungen des neuronalen Netzes an
    inputs:
    - inputs_list = Welche Werte an das neuronale Netz übergeben werden/wurden. In diesem Fall die Graustufen des Bildes.
    - erwartete_Ergebnisse = Welches Ergebnis richtig wäre.
    """
    
        # Eingänge zu 2D Array wegen Matrizenmultiplikation
        inputs = numpy.array(inputs_list, ndmin=2).T
        ziel_wert = numpy.array(erwartete_Ergebnisse, ndmin=2).T
        
        # hidden-layer Inputs berechnen
        hidden_inputs = numpy.dot(self.weight_InputHidden, inputs)
        # hidden-layer Outputs berechnen
        hidden_outputs = self.Aktivierungsfunktion(hidden_inputs)
        
        # output-layer Inputs berechnen
        final_inputs = numpy.dot(self.weight_HiddenOutput, hidden_outputs)
        # output-layer Outputs berechnen
        final_outputs = self.Aktivierungsfunktion(final_inputs)
        
        # Ausgabefehler entspricht dem Zielwert - dem Ausgabewert des Netzes
        output_errors = ziel_wert - final_outputs
        # hidden-layer-error ist der Ausgabefehler, aufgeteilt auf die Neuronen
        hidden_errors = numpy.dot(self.weight_HiddenOutput.T, output_errors) 
        
        # Gewichte zwischen hidden und output updaten
        self.who += self.lr * numpy.dot((output_errors * final_outputs * (1.0 - final_outputs)), numpy.transpose(hidden_outputs))
        
        # Gewichte zwischen input und hidden updaten
        self.weight_InputHidden += self.lr * numpy.dot((hidden_errors * hidden_outputs * (1.0 - hidden_outputs)), numpy.transpose(inputs))
        
        pass

    
    # --- query / Berechnen --- #
    def query(self, inputs_list):
    """Durchläuft das Neuronale Netzt, ohne zu trainieren. Nur zur Abfrage / zum Auswerten der Daten.
    inputs:
    - inputs_list = Welche Werte an das neuronale Netz übergeben werden/wurden. In diesem Fall die Graustufen des Bildes.
    
    Mir ist kein wirklich passender deutscher Begriff hierfür eingefallen, weshalb ich englisch "query" nehme.
    """
    
        # Eingänge zu 2D Array wegen Matrizenmultiplikation
        inputs = numpy.array(inputs_list, ndmin=2).T
        
        # hidden-layer Inputs berechnen
        hidden_inputs = numpy.dot(self.weight_InputHidden, inputs)
        # hidden-layer Outputs berechnen
        hidden_outputs = self.Aktivierungsfunktion(hidden_inputs)
        
        # output-layer Inputs berechnen
        final_inputs = numpy.dot(self.weight_HiddenOutput, hidden_outputs)
        # output-layer Outputs berechnen
        final_outputs = self.Aktivierungsfunktion(final_inputs)
        
        return final_outputs
